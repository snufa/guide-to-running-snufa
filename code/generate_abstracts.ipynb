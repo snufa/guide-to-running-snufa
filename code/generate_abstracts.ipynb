{
 "cells": [
  {
   "cell_type": "markdown",
   "id": "e7cf16a7",
   "metadata": {},
   "source": [
    "# Generate list of abstracts to upload\n",
    "\n",
    "[Installation instructions](#installing-code)\n",
    "\n",
    "Note that before running your script, you should create a copy of the submissions file called ``selected.csv`` with a new column ``decision`` which should be ``Talk``, ``Flash talk`` or ``Poster``. You probably want to use the outcome of the approval voting to fill this in, but you might then need to modify it because sometimes people will cancel etc., so we store the final version in a csv."
   ]
  },
  {
   "cell_type": "code",
   "execution_count": 1,
   "id": "da6607bd",
   "metadata": {},
   "outputs": [],
   "source": [
    "import csv\n",
    "from collections import defaultdict\n",
    "\n",
    "import jinja2\n",
    "\n",
    "from IPython.core.display import HTML\n",
    "import numpy as np\n",
    "import matplotlib.pyplot as plt\n",
    "\n",
    "from random import shuffle"
   ]
  },
  {
   "cell_type": "markdown",
   "id": "873efbed",
   "metadata": {},
   "source": [
    "This function generates a \"stub\" or short file name based on the title and author."
   ]
  },
  {
   "cell_type": "code",
   "execution_count": 2,
   "id": "3401c787",
   "metadata": {},
   "outputs": [],
   "source": [
    "def generate_stub(sub):\n",
    "    title_words = sub['Presentation title'].split(' ')\n",
    "    title_words = [word for word in title_words if len(word)>3]\n",
    "    name = ' '.join(sub['Corresponding author name'].split(' ')[:2])\n",
    "    stub = name+' '+title_words[0]\n",
    "    stub = stub.lower().replace(' ', '-').replace(':', '').replace('.', '').replace(',', '')\n",
    "    return stub"
   ]
  },
  {
   "cell_type": "markdown",
   "id": "54446534",
   "metadata": {},
   "source": [
    "Load in the selected talks and clean the data."
   ]
  },
  {
   "cell_type": "code",
   "execution_count": 9,
   "id": "b54870a9",
   "metadata": {},
   "outputs": [],
   "source": [
    "with open('selected.csv', newline='', encoding='utf8') as csvfile:\n",
    "    csvreader = csv.DictReader(csvfile, dialect='excel')\n",
    "    submissions = list(csvreader)\n",
    "submissions_by_title = {}\n",
    "for submission in submissions:\n",
    "    submission['ID'] = submission['\\ufeffID']\n",
    "    for k, v in list(submission.items()):\n",
    "        k_new = k.replace('\\ufeff', '').strip().split('\\n')[0]\n",
    "        submission[k_new] = v\n",
    "    submissions_by_title[generate_stub(submission)] = submission\n",
    "    \n",
    "shuffle(submissions) # randomize the order so that webpage order doesn't give away the voting order"
   ]
  },
  {
   "cell_type": "markdown",
   "id": "458cf378",
   "metadata": {},
   "source": [
    "As in previous notebooks, use Jinja templating to generate the list of all abstracts etc. and save them as markdown files."
   ]
  },
  {
   "cell_type": "code",
   "execution_count": null,
   "id": "838e29a5",
   "metadata": {},
   "outputs": [],
   "source": [
    "template = jinja2.Template('''# {{ sub['Presentation title'] }}\n",
    "\n",
    "**Authors:** {{ sub['Presentation authors'] }}\n",
    "                           \n",
    "{% if sub['Presenting author name'] %}**Presenting author:** {{ sub['Presenting author name'] }}{% endif %}\n",
    "\n",
    "**Presentation type:** {{ sub['decision'] }} at [SNUFA 2024 online workshop (5-6 Nov 2024)](https://snufa.net/2024)\n",
    "\n",
    "## Abstract\n",
    "\n",
    "{{ sub['Abstract (please keep under 300 words)'] }}\n",
    "''')\n",
    "\n",
    "for sub in submissions:\n",
    "    stubname = generate_stub(sub)\n",
    "    sub['abstract_filename'] = fname = f'abstracts/{stubname}.md'\n",
    "    with open(fname, 'w', encoding='utf-8') as f:\n",
    "        f.write(template.render(sub=sub))\n",
    "\n",
    "template = jinja2.Template('''# SNUFA 2024 Abstracts\n",
    "\n",
    "[Click here for the full programme](https://snufa.net/2024)\n",
    "\n",
    "## Invited talks (TBD)\n",
    "\n",
    "{% for talktype in ['Talk', 'Flash talk', 'Poster'] %}\n",
    "\n",
    "## {{ talktype }}\n",
    "\n",
    "{% for sub in submissions | sort(attribute='abstract_filename') %}{% if sub['decision']==talktype %}* [{{ sub['Presentation title'] }}]({{ sub['abstract_filename'] }}) ({{ sub['Presentation authors'] }})\n",
    "{% endif %}{% endfor %}\n",
    "\n",
    "{% endfor %}\n",
    "\n",
    "''')\n",
    "\n",
    "open('all_abstracts.md', 'w', encoding='utf-8').write(template.render(submissions=submissions))"
   ]
  }
 ],
 "metadata": {
  "kernelspec": {
   "display_name": "brian",
   "language": "python",
   "name": "python3"
  },
  "language_info": {
   "codemirror_mode": {
    "name": "ipython",
    "version": 3
   },
   "file_extension": ".py",
   "mimetype": "text/x-python",
   "name": "python",
   "nbconvert_exporter": "python",
   "pygments_lexer": "ipython3",
   "version": "3.9.13"
  }
 },
 "nbformat": 4,
 "nbformat_minor": 5
}
