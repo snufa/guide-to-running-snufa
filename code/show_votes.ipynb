{
 "cells": [
  {
   "cell_type": "markdown",
   "id": "e2de1984",
   "metadata": {},
   "source": [
    "# Sort and show all abstracts after voting\n",
    "\n",
    "[Installation instructions](#installing-code)\n",
    "\n",
    "Once you have downloaded the votes from Qualtrics as a CSV file ``votes.csv``, run the code below to show abstracts in order of approval."
   ]
  },
  {
   "cell_type": "code",
   "execution_count": 1,
   "id": "48e5f496",
   "metadata": {},
   "outputs": [],
   "source": [
    "import csv\n",
    "from collections import defaultdict\n",
    "\n",
    "import jinja2\n",
    "\n",
    "from IPython.core.display import HTML\n",
    "import numpy as np\n",
    "import matplotlib.pyplot as plt\n",
    "from wordcloud import WordCloud"
   ]
  },
  {
   "cell_type": "code",
   "execution_count": 2,
   "id": "eed20573",
   "metadata": {},
   "outputs": [],
   "source": [
    "# Read the submissions and do a bit of data cleaning\n",
    "with open('submissions.csv', newline='', encoding='utf8') as csvfile:\n",
    "    csvreader = csv.DictReader(csvfile, dialect='excel')\n",
    "    submissions = list(csvreader)\n",
    "for submission in submissions:\n",
    "    for k, v in list(submission.items()):\n",
    "        # This character shows up for some reason (unclear)\n",
    "        k_new = k.replace('\\ufeff', '').strip().split('\\n')[0]\n",
    "        # Some people use all caps for the title, so we automatically fix that\n",
    "        if k_new=='Presentation title' and v.upper()==v:\n",
    "            v = v.title()\n",
    "        # some people paste text with newlines for every line which looks ugly, so we detect that and automatically fix\n",
    "        if k_new=='Abstract (please keep under 300 words)' and max(map(len, v.split('\\n')))<120:\n",
    "            v = v.replace('\\n', ' ')\n",
    "        submission[k_new] = v\n",
    "    submission['ID'] = submission['\\ufeffID'] # not sure why forms inserts this random character"
   ]
  },
  {
   "cell_type": "code",
   "execution_count": null,
   "id": "f46ca6c0",
   "metadata": {},
   "outputs": [],
   "source": [
    "# Read the votes from Qualtrics\n",
    "with open('votes.csv', newline='') as csvfile:\n",
    "    csvreader = csv.DictReader(csvfile, dialect='excel')\n",
    "    votes = list(csvreader)\n",
    "\n",
    "votes = votes[2:]\n",
    "\n",
    "print(f'{len(votes)} raw votes')\n",
    "\n",
    "# Remove votes with duplicate IP addresses\n",
    "ip_address_counts = defaultdict(int)\n",
    "for vote in votes:\n",
    "    ip_address_counts[vote['IPAddress']] += 1\n",
    "\n",
    "votes = [vote for vote in votes if ip_address_counts[vote['IPAddress']]==1]\n",
    "\n",
    "print(f'{len(votes)} votes after duplicate IP address votes removed')"
   ]
  },
  {
   "cell_type": "code",
   "execution_count": null,
   "id": "f7d8a088",
   "metadata": {},
   "outputs": [],
   "source": [
    "# Check the votes make sense\n",
    "votes[0]"
   ]
  },
  {
   "cell_type": "code",
   "execution_count": null,
   "id": "2e02e9aa",
   "metadata": {},
   "outputs": [],
   "source": [
    "# Check the submissions make sense\n",
    "submissions[0]"
   ]
  },
  {
   "cell_type": "code",
   "execution_count": 6,
   "id": "4cbdcada",
   "metadata": {},
   "outputs": [],
   "source": [
    "# Link these two tables using a dictionary\n",
    "id_to_submission = {}\n",
    "for submission in submissions:\n",
    "    submission['yes_votes'] = 0\n",
    "    submission['no_votes'] = 0\n",
    "    submission['comments'] = []\n",
    "    id_to_submission[submission['ID']] = submission\n",
    "    \n",
    "for vote in votes:\n",
    "    vote['yes'] = yes_votes = []\n",
    "    vote['no'] = no_votes = []\n",
    "    for k, v in vote.items():\n",
    "        if v:\n",
    "            if k.startswith('abstract'):\n",
    "                k = k.replace('abstract', '')\n",
    "                if k.endswith('yesno'):\n",
    "                    k = k.replace('yesno', '')\n",
    "                    if v=='Yes':\n",
    "                        id_to_submission[k]['yes_votes'] += 1\n",
    "                        yes_votes.append(k)\n",
    "                    elif v=='No':\n",
    "                        id_to_submission[k]['no_votes'] += 1\n",
    "                        no_votes.append(k)\n",
    "                elif k.endswith('comment_1'):\n",
    "                    k = k.replace('comment_1', '')\n",
    "                    id_to_submission[k]['comments'].append(v)"
   ]
  },
  {
   "cell_type": "code",
   "execution_count": 7,
   "id": "594e113b",
   "metadata": {},
   "outputs": [],
   "source": [
    "# Compute approval and sort\n",
    "submissions.sort(reverse=True, key=lambda submission: submission['yes_votes']/max((submission['yes_votes']+submission['no_votes']), 1))\n",
    "\n",
    "for sub in submissions:\n",
    "    sub['approval'] = sub['yes_votes']/max(sub['yes_votes']+sub['no_votes'], 1)"
   ]
  },
  {
   "cell_type": "code",
   "execution_count": null,
   "id": "3a78cd23",
   "metadata": {},
   "outputs": [],
   "source": [
    "# Generate an output HTML file with all the abstracts and their number of votes and comments\n",
    "template = jinja2.Template('''\n",
    "<html><head><title>Submissions</title></head><body>\n",
    "    \n",
    "    {% for sub in submissions %}\n",
    "    <div style=\"border: 1px solid grey; margin: 1em; padding: 1em;\" >\n",
    "        <h3><span style=\"border: 1px solid red; border-radius: 5px; background-color: yellow; color: red; padding: 5px;\">{{ loop.index }}</span> {{ sub['Presentation title'] }}</h3>\n",
    "        <h4>{{ sub['Presentation authors'] }}</h4>\n",
    "        <h4>Corresponding author: <a href=\"mailto:{{ sub['Corresponding author email address'] }}\">{{ sub['Corresponding author name'] }}</a></h4>\n",
    "        {% for para in sub['Abstract (please keep under 300 words)'].splitlines() %}\n",
    "            {% if para.strip() %}\n",
    "                <p>\n",
    "                    {{ para }}\n",
    "                </p>\n",
    "            {% endif %}\n",
    "        {% endfor %}\n",
    "        <p>\n",
    "            <span style=\"background: lightgreen; border-radius: 10px; padding: 10px; display: inline-block; margin: 1px;\">\n",
    "                👍 <b>{{ sub['yes_votes'] }}</b> yes\n",
    "            </span>\n",
    "            <span style=\"background: lightpink; border-radius: 10px; padding: 10px; display: inline-block; margin: 1px;\">\n",
    "                👎 <b>{{ sub['no_votes'] }}</b> no\n",
    "            </span>\n",
    "            <span style=\"background: lightblue; border-radius: 10px; padding: 10px; display: inline-block; margin: 1px;\">\n",
    "                <b>{{ int(100*sub['yes_votes']/max(sub['yes_votes']+sub['no_votes'], 1)) }}%</b> positive\n",
    "            </span>            \n",
    "        </p>\n",
    "        {% if sub['comments'] %}\n",
    "        <p>\n",
    "            Comments:\n",
    "        </p>\n",
    "        <ul>\n",
    "            {% for comment in sub['comments'] %}\n",
    "                <li>\n",
    "                    {{ comment }}\n",
    "                </li>\n",
    "            {% endfor %}\n",
    "        </ul>\n",
    "        {% endif %}\n",
    "    </div>\n",
    "    {% endfor %}\n",
    "\n",
    "</body></html>\n",
    "''')\n",
    "\n",
    "submissions_html = template.render(submissions=submissions, int=int, max=max)\n",
    "\n",
    "open('submissions_with_votes.html', 'w', encoding='utf-8').write(submissions_html)\n",
    "\n",
    "HTML(submissions_html)"
   ]
  },
  {
   "cell_type": "code",
   "execution_count": 9,
   "id": "ed8bdf5e",
   "metadata": {},
   "outputs": [],
   "source": [
    "# Generate a list of the top 8\n",
    "all_talks = submissions[:8]\n",
    "all_posters = submissions[8:]\n",
    "for sub in all_talks:\n",
    "    sub['talk'] = True\n",
    "for sub in all_posters:\n",
    "    sub['talk'] = False"
   ]
  },
  {
   "cell_type": "code",
   "execution_count": null,
   "id": "57f4cb48",
   "metadata": {},
   "outputs": [],
   "source": [
    "# Talk emails\n",
    "', '.join(sub['Corresponding author email address'] for sub in submissions[:8])"
   ]
  },
  {
   "cell_type": "code",
   "execution_count": null,
   "id": "27ac05cf",
   "metadata": {},
   "outputs": [],
   "source": [
    "# Poster emails\n",
    "all_posters.sort(key=lambda sub: sub['Corresponding author name'])\n",
    "', '.join(sub['Corresponding author email address'] for sub in all_posters)"
   ]
  },
  {
   "cell_type": "code",
   "execution_count": null,
   "id": "9ba985a8",
   "metadata": {},
   "outputs": [],
   "source": [
    "# Histogram of ratings\n",
    "boundary = (submissions[8]['approval']+submissions[7]['approval'])/2\n",
    "print(f'Boundary = {round(100*boundary)}%')\n",
    "binedges = boundary+np.arange(-20, 21)*0.1\n",
    "counts, binedges, _ = plt.hist([sub['approval'] for sub in submissions], bins=binedges, label='All submissions (talk preferred)')\n",
    "plt.hist([sub['approval'] for sub in submissions[:8]], bins=binedges, label='Accepted for talk')\n",
    "plt.axvline(boundary, ls='--', c='k', label=f'Cutoff = {round(100*boundary)}%')\n",
    "plt.xlabel('Fraction interested in seeing submission as talk')\n",
    "plt.ylabel('Number of submissions')\n",
    "plt.xlim(0, 1)\n",
    "plt.legend(loc='best')\n",
    "plt.tight_layout()"
   ]
  },
  {
   "cell_type": "code",
   "execution_count": null,
   "id": "20b95851",
   "metadata": {},
   "outputs": [],
   "source": [
    "# Generate a word cloud of all the abstracts that can be used on social media etc.\n",
    "all_abstracts = ' '.join(sub['Abstract (please keep under 300 words)'] for sub in submissions)\n",
    "wordcloud = WordCloud(background_color=\"white\", width=1000, height=1000).generate(all_abstracts)\n",
    "wordcloud.to_file('wordcloud.png')"
   ]
  }
 ],
 "metadata": {
  "kernelspec": {
   "display_name": "brian",
   "language": "python",
   "name": "python3"
  },
  "language_info": {
   "codemirror_mode": {
    "name": "ipython",
    "version": 3
   },
   "file_extension": ".py",
   "mimetype": "text/x-python",
   "name": "python",
   "nbconvert_exporter": "python",
   "pygments_lexer": "ipython3",
   "version": "3.12.6"
  }
 },
 "nbformat": 4,
 "nbformat_minor": 5
}
