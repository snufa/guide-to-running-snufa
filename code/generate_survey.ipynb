{
 "cells": [
  {
   "cell_type": "markdown",
   "id": "9404f09b",
   "metadata": {},
   "source": [
    "# Generate list of submissions and survey form for Qualtrics\n",
    "\n",
    "Make sure to save your Microsoft Forms responses in format \"CSV UTF-8\" with filename ``submissions.csv`` before running this script. If you've changed the text of the recommended form you'll need to update some of the strings below.\n",
    "\n",
    "Packages needed for this notebook: ``jinja2`` and ``notebook``, e.g. run ``pip install jinja2 notebook``."
   ]
  },
  {
   "cell_type": "code",
   "execution_count": 1,
   "id": "d7f165e8",
   "metadata": {},
   "outputs": [],
   "source": [
    "# Import a few standard packages\n",
    "import csv\n",
    "import jinja2\n",
    "from IPython.core.display import HTML"
   ]
  },
  {
   "cell_type": "code",
   "execution_count": 23,
   "id": "fb89fe22",
   "metadata": {},
   "outputs": [],
   "source": [
    "# Read the submissions and do a bit of data cleaning\n",
    "with open('submissions.csv', newline='', encoding='utf8') as csvfile:\n",
    "    csvreader = csv.DictReader(csvfile, dialect='excel')\n",
    "    submissions = list(csvreader)\n",
    "for submission in submissions:\n",
    "    for k, v in list(submission.items()):\n",
    "        # This character shows up for some reason (unclear)\n",
    "        k_new = k.replace('\\ufeff', '').strip().split('\\n')[0]\n",
    "        # Some people use all caps for the title, so we automatically fix that\n",
    "        if k_new=='Presentation title' and v.upper()==v:\n",
    "            v = v.title()\n",
    "        # some people paste text with newlines for every line which looks ugly, so we detect that and automatically fix\n",
    "        if k_new=='Abstract (please keep under 300 words)' and max(map(len, v.split('\\n')))<120:\n",
    "            v = v.replace('\\n', ' ')\n",
    "        submission[k_new] = v\n",
    "    submission['ID'] = submission['\\ufeffID'] # not sure why forms inserts this random character"
   ]
  },
  {
   "cell_type": "code",
   "execution_count": null,
   "id": "3d02ed55",
   "metadata": {},
   "outputs": [],
   "source": [
    "# Just take a look at one example submission to make sure everything seems ok\n",
    "submissions[0]"
   ]
  },
  {
   "cell_type": "code",
   "execution_count": null,
   "id": "d6622a22",
   "metadata": {},
   "outputs": [],
   "source": [
    "# This generates the survey text that can be imported into Qualtrics\n",
    "\n",
    "template = jinja2.Template('''\n",
    "[[AdvancedFormat]]\n",
    "    \n",
    "{% for sub in submissions %}\n",
    "\n",
    "[[Block]]\n",
    "\n",
    "[[Question:DB]]\n",
    "    \n",
    "<div>\n",
    "    <h3>{{ sub['Presentation title'] }}</h3>\n",
    "    {% for para in sub['Abstract (please keep under 300 words)'].splitlines() %}\n",
    "    {% if para.strip() %}\n",
    "    <p style=\"font-size: 80%;\">\n",
    "        {{ para }}\n",
    "    </p>\n",
    "    {% endif %}\n",
    "    {% endfor %}\n",
    "</div>\n",
    "\n",
    "[[Question:MC:SingleAnswer]]\n",
    "[[ID:abstract{{ sub.ID }}yesno]]\n",
    "I would like to see this as a talk.\n",
    "[[Choices]]\n",
    "No\n",
    "Yes\n",
    "\n",
    "[[Question:TextEntry:Form]]\n",
    "[[ID:abstract{{ sub.ID }}comments]\n",
    "Any comments?\n",
    "[[Choices]]\n",
    "Insert comments here.\n",
    "{% endfor %}\n",
    "''')\n",
    "\n",
    "survey = template.render(submissions=submissions)\n",
    "\n",
    "#HTML(template.render(submissions=submissions))\n",
    "print(survey)\n",
    "open('survey.txt', 'w', encoding='utf-8').write(survey)"
   ]
  },
  {
   "cell_type": "code",
   "execution_count": null,
   "id": "8659219f",
   "metadata": {},
   "outputs": [],
   "source": [
    "# This generates HTML to display all the submissions and saves to raw_submissions.html\n",
    "\n",
    "template = jinja2.Template('''\n",
    "<html><head><title>Submissions</title></head><body>\n",
    "    \n",
    "    <h1>All submissions</h1>\n",
    "    {% for sub in submissions %}\n",
    "    <div style=\"border: 1px solid grey; margin: 1em; padding: 1em;\" >\n",
    "        <h3>{{ sub['Presentation title'] }}</h3>\n",
    "        <h4>{{ sub['Presentation authors'] }}</h4>\n",
    "        <h4>Corresponding author: <a href=\"mailto:{{ sub['Corresponding author email address'] }}\">{{ sub['Corresponding author name'] }}</a></h4>\n",
    "        {% for para in sub['Abstract (please keep under 300 words)'].splitlines() %}\n",
    "            {% if para.strip() %}\n",
    "                <p>\n",
    "                    {{ para }}\n",
    "                </p>\n",
    "            {% endif %}\n",
    "        {% endfor %}\n",
    "    </div>\n",
    "    {% endfor %}\n",
    "</body></html>\n",
    "''')\n",
    "\n",
    "submissions_html = template.render(submissions=submissions, int=int)\n",
    "\n",
    "open('raw_submissions.html', 'w', encoding='utf-8').write(submissions_html)\n",
    "\n",
    "HTML(submissions_html)"
   ]
  },
  {
   "cell_type": "code",
   "execution_count": null,
   "id": "78274c45",
   "metadata": {},
   "outputs": [],
   "source": [
    "max(list(map(len, submissions[-1]['Abstract (please keep under 300 words)'].split('\\n'))))"
   ]
  }
 ],
 "metadata": {
  "kernelspec": {
   "display_name": "brian",
   "language": "python",
   "name": "python3"
  },
  "language_info": {
   "codemirror_mode": {
    "name": "ipython",
    "version": 3
   },
   "file_extension": ".py",
   "mimetype": "text/x-python",
   "name": "python",
   "nbconvert_exporter": "python",
   "pygments_lexer": "ipython3",
   "version": "3.8.8"
  }
 },
 "nbformat": 4,
 "nbformat_minor": 5
}
